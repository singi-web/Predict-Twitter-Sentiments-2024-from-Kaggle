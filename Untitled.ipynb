{
 "cells": [
  {
   "cell_type": "markdown",
   "id": "3189fc79",
   "metadata": {},
   "source": [
    "# Predict Twitter Sentiments\n",
    "\n",
    "# Singi Ntsumele"
   ]
  },
  {
   "cell_type": "markdown",
   "id": "4440e5ae",
   "metadata": {},
   "source": [
    "# 1. Importing Packages"
   ]
  },
  {
   "cell_type": "code",
   "execution_count": 159,
   "id": "1ee8a231",
   "metadata": {},
   "outputs": [],
   "source": [
    "#importing the required libraries\n",
    "#!pip install wordCloud\n",
    "# Libraries for data loading, data manipulation and data visulisation\n",
    "import numpy as np                     \n",
    "import pandas as pd\n",
    "from matplotlib import pyplot as plt\n",
    "import seaborn as sns\n",
    "# Customise our plotting settings\n",
    "sns.set_style('whitegrid')\n",
    "\n",
    "#Libraries for data cleaning and preprocessing\n",
    "from nltk.tokenize import word_tokenize, TreebankWordTokenizer\n",
    "from nltk.stem import WordNetLemmatizer\n",
    "from sklearn.feature_extraction.text import CountVectorizer\n",
    "from sklearn.utils import resample\n",
    "import string\n",
    "import re\n",
    "import pickle\n",
    "import nltk\n",
    "\n",
    "#Libraries for data preparation and model building\n",
    "from sklearn.model_selection import train_test_split\n",
    "from sklearn.svm import SVC\n",
    "from sklearn.naive_bayes import MultinomialNB\n",
    "from sklearn.tree import DecisionTreeClassifier\n",
    "from sklearn.ensemble import RandomForestClassifier\n",
    "from sklearn.linear_model import LogisticRegression\n",
    "from sklearn.metrics import classification_report, confusion_matrix, f1_score, precision_score, recall_score # Classification report"
   ]
  },
  {
   "cell_type": "markdown",
   "id": "861b54f0",
   "metadata": {},
   "source": [
    "# 2. Loading the training dataset"
   ]
  },
  {
   "cell_type": "markdown",
   "id": "5b4f78fd",
   "metadata": {},
   "source": [
    "train_df = pd.read_csv('train.csv')\n",
    "test_df = pd.read_csv ('test_with_no_labels.csv')"
   ]
  },
  {
   "cell_type": "markdown",
   "id": "fc43704f",
   "metadata": {},
   "source": [
    "###I start by loading the data from files. The data includes tweets and their associated sentiment labels. I have one set of data for training my model and another for testing it. I peek at the first few tweets to understand what my data looks like."
   ]
  },
  {
   "cell_type": "markdown",
   "id": "4a9e3d32",
   "metadata": {},
   "source": [
    "\n",
    "print(train_df.info()):\n",
    "This line provides information about the dataset, including the data types of each column, the number of non-null values, and memory usage.\n",
    "The output shows that the dataset contains 15,819 entries (rows) and three columns: sentiment, message, and tweetid.\n",
    "It also indicates that there are no missing values (Non-Null Count is the same as the total number of entries), and the data types of sentiment and tweetid columns are integers (int64), while the message column is of type object (likely representing text)."
   ]
  },
  {
   "cell_type": "markdown",
   "id": "4d65c221",
   "metadata": {},
   "source": [
    "# 3. Exploratory Data Analysis (EDA"
   ]
  },
  {
   "cell_type": "code",
   "execution_count": 108,
   "id": "ec648fab",
   "metadata": {},
   "outputs": [
    {
     "name": "stdout",
     "output_type": "stream",
     "text": [
      "<class 'pandas.core.frame.DataFrame'>\n",
      "RangeIndex: 15819 entries, 0 to 15818\n",
      "Data columns (total 3 columns):\n",
      " #   Column     Non-Null Count  Dtype \n",
      "---  ------     --------------  ----- \n",
      " 0   sentiment  15819 non-null  int64 \n",
      " 1   message    15819 non-null  object\n",
      " 2   tweetid    15819 non-null  int64 \n",
      "dtypes: int64(2), object(1)\n",
      "memory usage: 370.9+ KB\n"
     ]
    }
   ],
   "source": [
    "train_df.info()"
   ]
  },
  {
   "cell_type": "markdown",
   "id": "e8f207ef",
   "metadata": {},
   "source": [
    "###The dataset consists of tweet data, including sentiment labels, tweet messages, and tweet IDs. There are no missing values, and the data types are consistent with their respective contents."
   ]
  },
  {
   "cell_type": "code",
   "execution_count": 109,
   "id": "7d9e1828",
   "metadata": {},
   "outputs": [
    {
     "data": {
      "text/html": [
       "<div>\n",
       "<style scoped>\n",
       "    .dataframe tbody tr th:only-of-type {\n",
       "        vertical-align: middle;\n",
       "    }\n",
       "\n",
       "    .dataframe tbody tr th {\n",
       "        vertical-align: top;\n",
       "    }\n",
       "\n",
       "    .dataframe thead th {\n",
       "        text-align: right;\n",
       "    }\n",
       "</style>\n",
       "<table border=\"1\" class=\"dataframe\">\n",
       "  <thead>\n",
       "    <tr style=\"text-align: right;\">\n",
       "      <th></th>\n",
       "      <th>sentiment</th>\n",
       "      <th>message</th>\n",
       "      <th>tweetid</th>\n",
       "    </tr>\n",
       "  </thead>\n",
       "  <tbody>\n",
       "    <tr>\n",
       "      <th>0</th>\n",
       "      <td>1</td>\n",
       "      <td>PolySciMajor EPA chief doesn't think carbon di...</td>\n",
       "      <td>625221</td>\n",
       "    </tr>\n",
       "    <tr>\n",
       "      <th>1</th>\n",
       "      <td>1</td>\n",
       "      <td>It's not like we lack evidence of anthropogeni...</td>\n",
       "      <td>126103</td>\n",
       "    </tr>\n",
       "    <tr>\n",
       "      <th>2</th>\n",
       "      <td>2</td>\n",
       "      <td>RT @RawStory: Researchers say we have three ye...</td>\n",
       "      <td>698562</td>\n",
       "    </tr>\n",
       "    <tr>\n",
       "      <th>3</th>\n",
       "      <td>1</td>\n",
       "      <td>#TodayinMaker# WIRED : 2016 was a pivotal year...</td>\n",
       "      <td>573736</td>\n",
       "    </tr>\n",
       "    <tr>\n",
       "      <th>4</th>\n",
       "      <td>1</td>\n",
       "      <td>RT @SoyNovioDeTodas: It's 2016, and a racist, ...</td>\n",
       "      <td>466954</td>\n",
       "    </tr>\n",
       "  </tbody>\n",
       "</table>\n",
       "</div>"
      ],
      "text/plain": [
       "   sentiment                                            message  tweetid\n",
       "0          1  PolySciMajor EPA chief doesn't think carbon di...   625221\n",
       "1          1  It's not like we lack evidence of anthropogeni...   126103\n",
       "2          2  RT @RawStory: Researchers say we have three ye...   698562\n",
       "3          1  #TodayinMaker# WIRED : 2016 was a pivotal year...   573736\n",
       "4          1  RT @SoyNovioDeTodas: It's 2016, and a racist, ...   466954"
      ]
     },
     "execution_count": 109,
     "metadata": {},
     "output_type": "execute_result"
    }
   ],
   "source": [
    "train_df.head()"
   ]
  },
  {
   "cell_type": "markdown",
   "id": "a715fdb3",
   "metadata": {},
   "source": [
    "###print(train_df.head()):\n",
    "This line prints the first few rows of the dataset, giving us a quick look at what the data looks like. It helps us understand the structure and format of our data.\n",
    "The output shows the first five rows of the dataset, displaying columns for sentiment, message, and tweetid."
   ]
  },
  {
   "cell_type": "markdown",
   "id": "09e8f962",
   "metadata": {},
   "source": [
    "# Test"
   ]
  },
  {
   "cell_type": "code",
   "execution_count": 110,
   "id": "c896826c",
   "metadata": {},
   "outputs": [
    {
     "data": {
      "text/html": [
       "<div>\n",
       "<style scoped>\n",
       "    .dataframe tbody tr th:only-of-type {\n",
       "        vertical-align: middle;\n",
       "    }\n",
       "\n",
       "    .dataframe tbody tr th {\n",
       "        vertical-align: top;\n",
       "    }\n",
       "\n",
       "    .dataframe thead th {\n",
       "        text-align: right;\n",
       "    }\n",
       "</style>\n",
       "<table border=\"1\" class=\"dataframe\">\n",
       "  <thead>\n",
       "    <tr style=\"text-align: right;\">\n",
       "      <th></th>\n",
       "      <th>message</th>\n",
       "      <th>tweetid</th>\n",
       "    </tr>\n",
       "  </thead>\n",
       "  <tbody>\n",
       "    <tr>\n",
       "      <th>0</th>\n",
       "      <td>Europe will now be looking to China to make su...</td>\n",
       "      <td>169760</td>\n",
       "    </tr>\n",
       "    <tr>\n",
       "      <th>1</th>\n",
       "      <td>Combine this with the polling of staffers re c...</td>\n",
       "      <td>35326</td>\n",
       "    </tr>\n",
       "    <tr>\n",
       "      <th>2</th>\n",
       "      <td>The scary, unimpeachable evidence that climate...</td>\n",
       "      <td>224985</td>\n",
       "    </tr>\n",
       "    <tr>\n",
       "      <th>3</th>\n",
       "      <td>@Karoli @morgfair @OsborneInk @dailykos \\nPuti...</td>\n",
       "      <td>476263</td>\n",
       "    </tr>\n",
       "    <tr>\n",
       "      <th>4</th>\n",
       "      <td>RT @FakeWillMoore: 'Female orgasms cause globa...</td>\n",
       "      <td>872928</td>\n",
       "    </tr>\n",
       "  </tbody>\n",
       "</table>\n",
       "</div>"
      ],
      "text/plain": [
       "                                             message  tweetid\n",
       "0  Europe will now be looking to China to make su...   169760\n",
       "1  Combine this with the polling of staffers re c...    35326\n",
       "2  The scary, unimpeachable evidence that climate...   224985\n",
       "3  @Karoli @morgfair @OsborneInk @dailykos \\nPuti...   476263\n",
       "4  RT @FakeWillMoore: 'Female orgasms cause globa...   872928"
      ]
     },
     "execution_count": 110,
     "metadata": {},
     "output_type": "execute_result"
    }
   ],
   "source": [
    "test_df.head()"
   ]
  },
  {
   "cell_type": "markdown",
   "id": "bd29fb42",
   "metadata": {},
   "source": [
    "###test_df.head() is a command I use to quickly see what the test dataset looks like. It displays the first few rows of the dataset, giving me a snapshot of the data's structure and content. Each row in the output represents a single data point or observation, and the columns contain different pieces of information about each data point. By looking at these initial rows, I can get a sense of what kind of data is in the test dataset and how it's organized. This helps me understand the dataset better and decide how to work with it further."
   ]
  },
  {
   "cell_type": "code",
   "execution_count": 111,
   "id": "483cc20f",
   "metadata": {},
   "outputs": [
    {
     "name": "stdout",
     "output_type": "stream",
     "text": [
      "<class 'pandas.core.frame.DataFrame'>\n",
      "RangeIndex: 10546 entries, 0 to 10545\n",
      "Data columns (total 2 columns):\n",
      " #   Column   Non-Null Count  Dtype \n",
      "---  ------   --------------  ----- \n",
      " 0   message  10546 non-null  object\n",
      " 1   tweetid  10546 non-null  int64 \n",
      "dtypes: int64(1), object(1)\n",
      "memory usage: 164.9+ KB\n"
     ]
    }
   ],
   "source": [
    "test_df.info()"
   ]
  },
  {
   "cell_type": "markdown",
   "id": "e65193b6",
   "metadata": {},
   "source": [
    "###When I run test_df.info(), it gives me a summary of the test dataset test_df. This summary includes details like the number of entries (rows) in the dataset, the number of columns, and the data types of each column. It also tells me how many non-null values are present in each column, which is important for checking data completeness. Additionally, it provides information about the memory usage of the dataset. This summary helps me understand the structure and content of the test dataset at a glance, which is crucial for further analysis and processin"
   ]
  },
  {
   "cell_type": "code",
   "execution_count": 136,
   "id": "d0d19029",
   "metadata": {},
   "outputs": [
    {
     "data": {
      "text/plain": [
       "sentiment            0\n",
       "message              0\n",
       "tweetid              0\n",
       "processed_message    0\n",
       "dtype: int64"
      ]
     },
     "execution_count": 136,
     "metadata": {},
     "output_type": "execute_result"
    }
   ],
   "source": [
    "#checking null values in the training data\n",
    "train_df.isnull().sum()"
   ]
  },
  {
   "cell_type": "markdown",
   "id": "b4543f05",
   "metadata": {},
   "source": [
    "###it shows that I have **0** null values in the training data, which means I don't have any null values"
   ]
  },
  {
   "cell_type": "code",
   "execution_count": 137,
   "id": "785b17cc",
   "metadata": {},
   "outputs": [
    {
     "data": {
      "text/plain": [
       "sentiment\n",
       " 1    8530\n",
       " 2    3640\n",
       " 0    2353\n",
       "-1    1296\n",
       "Name: count, dtype: int64"
      ]
     },
     "execution_count": 137,
     "metadata": {},
     "output_type": "execute_result"
    }
   ],
   "source": [
    "#checking for unique values \n",
    "train_df['sentiment'].value_counts()"
   ]
  },
  {
   "cell_type": "markdown",
   "id": "711f25b8",
   "metadata": {},
   "source": [
    "###Well it looks like I have 4 unique values in the label.\n",
    "\n",
    "Based on the description of the data, here is what each value stands for:\n",
    "\n",
    "1 Pro: the tweet supports the belief of man-made climate change\n",
    "2 News: the tweet links to factual news about climate change\n",
    "0 Neutral: the tweet neither supports nor refutes the belief of man-made climate change\n",
    "-1 Anti: the tweet does not believe in man-made climate change"
   ]
  },
  {
   "cell_type": "markdown",
   "id": "6a2823fb",
   "metadata": {},
   "source": [
    "# Ploting the distribution of each unique value"
   ]
  },
  {
   "cell_type": "code",
   "execution_count": 142,
   "id": "68759c30",
   "metadata": {},
   "outputs": [
    {
     "data": {
      "image/png": "[encoded data removed]",
      "text/plain": [
       "<Figure size 800x400 with 1 Axes>"
      ]
     },
     "metadata": {},
     "output_type": "display_data"
    }
   ],
   "source": [
    "#ploting the distribution of unique label values\n",
    "f, ax = plt.subplots(figsize=(8, 4))\n",
    "ax = sns.countplot(x=\"sentiment\", data=train_df)\n",
    "plt.show()"
   ]
  },
  {
   "cell_type": "markdown",
   "id": "1925cefa",
   "metadata": {},
   "source": [
    "###\n",
    "\n",
    "1296 tweets do not believe in man-made climate change -1\n",
    "\n",
    "2353 tweets neither supports nor refutes the belief of man-made climate change 0\n",
    "\n",
    "8530 Pro: the tweet supports the belief of man-made climate change 1\n",
    "\n",
    "3640 News: the tweet links to factual news about climate change 2\n",
    "\n",
    "The plot shows that the highest proportion of the tweets supports the belief of man-made climate change\n",
    "\n",
    "Note: here the label data appears to be unbalanced and it's important to have a balanced label distribution to get a better performing model."
   ]
  },
  {
   "cell_type": "code",
   "execution_count": 147,
   "id": "85123eec",
   "metadata": {},
   "outputs": [
    {
     "data": {
      "text/plain": [
       "15819"
      ]
     },
     "execution_count": 147,
     "metadata": {},
     "output_type": "execute_result"
    }
   ],
   "source": [
    "#checking the tweetid to see if there are any duplicate id's\n",
    "train_df['tweetid'].nunique()"
   ]
  },
  {
   "cell_type": "code",
   "execution_count": 149,
   "id": "f65723de",
   "metadata": {},
   "outputs": [
    {
     "data": {
      "text/plain": [
       "0"
      ]
     },
     "execution_count": 149,
     "metadata": {},
     "output_type": "execute_result"
    }
   ],
   "source": [
    "train_df['tweetid'].duplicated().sum()"
   ]
  },
  {
   "cell_type": "markdown",
   "id": "1c424036",
   "metadata": {},
   "source": [
    "###\n",
    "No Duplicate"
   ]
  },
  {
   "cell_type": "markdown",
   "id": "d44873b7",
   "metadata": {},
   "source": [
    "###\n",
    "Checking message column which contains the tweets"
   ]
  },
  {
   "cell_type": "code",
   "execution_count": 152,
   "id": "27c5a3de",
   "metadata": {},
   "outputs": [
    {
     "data": {
      "text/plain": [
       "0        PolySciMajor EPA chief doesn't think carbon di...\n",
       "1        It's not like we lack evidence of anthropogeni...\n",
       "2        RT @RawStory: Researchers say we have three ye...\n",
       "3        #TodayinMaker# WIRED : 2016 was a pivotal year...\n",
       "4        RT @SoyNovioDeTodas: It's 2016, and a racist, ...\n",
       "                               ...                        \n",
       "15814    RT @ezlusztig: They took down the material on ...\n",
       "15815    RT @washingtonpost: How climate change could b...\n",
       "15816    notiven: RT: nytimesworld :What does Trump act...\n",
       "15817    RT @sara8smiles: Hey liberals the climate chan...\n",
       "15818    RT @Chet_Cannon: .@kurteichenwald's 'climate c...\n",
       "Name: message, Length: 15819, dtype: object"
      ]
     },
     "execution_count": 152,
     "metadata": {},
     "output_type": "execute_result"
    }
   ],
   "source": [
    "#taking a colser look on the message column\n",
    "train_df['message']"
   ]
  },
  {
   "cell_type": "markdown",
   "id": "9b748462",
   "metadata": {},
   "source": [
    "###\n",
    "The message is containing characters which are unwnted"
   ]
  },
  {
   "cell_type": "code",
   "execution_count": 153,
   "id": "9c6334a1",
   "metadata": {},
   "outputs": [],
   "source": [
    "#creating a new dataframe for the features\n",
    "df = pd.DataFrame(train_df[['tweetid', 'message']])"
   ]
  },
  {
   "cell_type": "markdown",
   "id": "0448041c",
   "metadata": {},
   "source": [
    "# Extracting Hashtags"
   ]
  },
  {
   "cell_type": "code",
   "execution_count": 165,
   "id": "06757871",
   "metadata": {},
   "outputs": [],
   "source": [
    "def hashtag_extract(tweets):\n",
    "    \"\"\"\n",
    "    The function takes in tweets as input and extracts the hashtag from the tweets\n",
    "    using (re) and returns the hashtags\n",
    "    \n",
    "    \"\"\"\n",
    "    hashtags=[]\n",
    "    tweets=tweets.to_list()\n",
    "    for tweet in tweets:\n",
    "        hashtag = re.findall(r\"#(\\w+)\",tweet)\n",
    "        hashtags.append(hashtag)\n",
    "    return hashtags"
   ]
  },
  {
   "cell_type": "code",
   "execution_count": 167,
   "id": "067aecda",
   "metadata": {},
   "outputs": [],
   "source": [
    "# Extract Hashtags for pro climate change \n",
    "pro_climate = hashtag_extract(train_df['message'][train_df['sentiment']==1])\n",
    "\n",
    "# Extract Hashtags for anti climate change \n",
    "anti_climate = hashtag_extract(train_df['message'][train_df['sentiment']==-1])"
   ]
  },
  {
   "cell_type": "code",
   "execution_count": 168,
   "id": "8878fb12",
   "metadata": {},
   "outputs": [],
   "source": [
    "# un-nest the lists\n",
    "pro_climate = sum(pro_climate, [])\n",
    "anti_climate = sum(anti_climate, [])"
   ]
  },
  {
   "cell_type": "code",
   "execution_count": 169,
   "id": "6e6037b1",
   "metadata": {},
   "outputs": [
    {
     "data": {
      "image/png": "[encoded data removed]",
      "text/plain": [
       "<Figure size 1500x1000 with 1 Axes>"
      ]
     },
     "metadata": {},
     "output_type": "display_data"
    }
   ],
   "source": [
    "# For pro climate change\n",
    "freq = nltk.FreqDist(pro_climate)\n",
    "freq_df = pd.DataFrame({'hashtags':freq.keys(),\n",
    "                       'counts':freq.values()})\n",
    "# Display the top 10 frequent hashtags\n",
    "freq_df = freq_df.nlargest(columns='counts', n=10)\n",
    "plt.figure(figsize=(15,10))\n",
    "sns.barplot(data=freq_df, x='hashtags',y='counts');"
   ]
  },
  {
   "cell_type": "code",
   "execution_count": null,
   "id": "22c93fc0",
   "metadata": {},
   "outputs": [],
   "source": [
    "# Preprocess the text data\n",
    "import nltk\n",
    "from nltk.corpus import stopwords\n",
    "from nltk.tokenize import word_tokenize\n",
    "from nltk.stem import WordNetLemmatizer\n",
    "import re"
   ]
  },
  {
   "cell_type": "code",
   "execution_count": 170,
   "id": "aea82938",
   "metadata": {},
   "outputs": [
    {
     "name": "stderr",
     "output_type": "stream",
     "text": [
      "[nltk_data] Downloading package punkt to C:\\Users\\Singi\n",
      "[nltk_data]     Ntsumele\\AppData\\Roaming\\nltk_data...\n",
      "[nltk_data]   Package punkt is already up-to-date!\n",
      "[nltk_data] Downloading package wordnet to C:\\Users\\Singi\n",
      "[nltk_data]     Ntsumele\\AppData\\Roaming\\nltk_data...\n",
      "[nltk_data]   Package wordnet is already up-to-date!\n",
      "[nltk_data] Downloading package stopwords to C:\\Users\\Singi\n",
      "[nltk_data]     Ntsumele\\AppData\\Roaming\\nltk_data...\n",
      "[nltk_data]   Package stopwords is already up-to-date!\n"
     ]
    },
    {
     "data": {
      "text/plain": [
       "True"
      ]
     },
     "execution_count": 170,
     "metadata": {},
     "output_type": "execute_result"
    }
   ],
   "source": [
    "# Download NLTK resources\n",
    "nltk.download('punkt')\n",
    "nltk.download('wordnet')\n",
    "nltk.download('stopwords')"
   ]
  },
  {
   "cell_type": "code",
   "execution_count": 180,
   "id": "95535af4",
   "metadata": {},
   "outputs": [],
   "source": [
    "# Define preprocessing functions\n",
    "def preprocess_text(text):\n",
    "    # Convert to lowercase\n",
    "    text = text.lower()\n",
    "    # Remove special characters and links\n",
    "    text = re.sub(r'http\\S+', '', text)\n",
    "    text = re.sub(r'[^a-zA-Z\\s]', '', text)\n",
    "    # Tokenize\n",
    "    tokens = word_tokenize(text)\n",
    "    # Remove stopwords\n",
    "    stop_words = set(stopwords.words('english'))\n",
    "    filtered_tokens = [word for word in tokens if word not in stop_words]\n",
    "    # Lemmatize\n",
    "    lemmatizer = WordNetLemmatizer()\n",
    "    lemmatized_tokens = [lemmatizer.lemmatize(word) for word in filtered_tokens]\n",
    "    return ' '.join(lemmatized_tokens)"
   ]
  },
  {
   "cell_type": "markdown",
   "id": "da201abc",
   "metadata": {},
   "source": [
    "###\n",
    "the function returns the preprocessed text as a single string, where each token is separated by a space. This preprocessing function is commonly used in natural language processing (NLP) tasks to clean and prepare text data for analysis or modeling."
   ]
  },
  {
   "cell_type": "code",
   "execution_count": 172,
   "id": "77e64db4",
   "metadata": {},
   "outputs": [],
   "source": [
    "# Apply preprocessing to the 'message' column\n",
    "train_df['processed_message'] = train_df['message'].apply(preprocess_text)"
   ]
  },
  {
   "cell_type": "markdown",
   "id": "bbcd0a9e",
   "metadata": {},
   "source": [
    "######\n",
    "we create a new column in the DataFrame train_df that contains the preprocessed version of the text data from the 'message' column. This preprocessed text is cleaned, tokenized, and lemmatized, ready for further analysis or modeling tasks."
   ]
  },
  {
   "cell_type": "code",
   "execution_count": 173,
   "id": "d5f84d14",
   "metadata": {},
   "outputs": [],
   "source": [
    "# Feature Engineering\n",
    "from sklearn.feature_extraction.text import TfidfVectorizer"
   ]
  },
  {
   "cell_type": "code",
   "execution_count": 174,
   "id": "2205e157",
   "metadata": {},
   "outputs": [],
   "source": [
    "# Convert text data into numerical features using TF-IDF\n",
    "tfidf_vectorizer = TfidfVectorizer(max_features=5000)\n",
    "X_train = tfidf_vectorizer.fit_transform(train_df['processed_message'])"
   ]
  },
  {
   "cell_type": "code",
   "execution_count": 175,
   "id": "8a2fd75a",
   "metadata": {},
   "outputs": [],
   "source": [
    "# Model Selection and Training\n",
    "from sklearn.model_selection import train_test_split\n",
    "from sklearn.linear_model import LogisticRegression\n",
    "from sklearn.metrics import f1_score"
   ]
  },
  {
   "cell_type": "code",
   "execution_count": 176,
   "id": "0718daa8",
   "metadata": {},
   "outputs": [],
   "source": [
    "# Split the data into train and validation sets\n",
    "X_train, X_val, y_train, y_val = train_test_split(X_train, train_df['sentiment'], test_size=0.2, random_state=42)"
   ]
  },
  {
   "cell_type": "code",
   "execution_count": 177,
   "id": "0e0bd859",
   "metadata": {},
   "outputs": [
    {
     "name": "stderr",
     "output_type": "stream",
     "text": [
      "C:\\Users\\Singi Ntsumele\\anaconda3\\Lib\\site-packages\\sklearn\\linear_model\\_logistic.py:460: ConvergenceWarning: lbfgs failed to converge (status=1):\n",
      "STOP: TOTAL NO. of ITERATIONS REACHED LIMIT.\n",
      "\n",
      "Increase the number of iterations (max_iter) or scale the data as shown in:\n",
      "    https://scikit-learn.org/stable/modules/preprocessing.html\n",
      "Please also refer to the documentation for alternative solver options:\n",
      "    https://scikit-learn.org/stable/modules/linear_model.html#logistic-regression\n",
      "  n_iter_i = _check_optimize_result(\n"
     ]
    },
    {
     "data": {
      "text/html": [
       "<style>#sk-container-id-4 {color: black;}#sk-container-id-4 pre{padding: 0;}#sk-container-id-4 div.sk-toggleable {background-color: white;}#sk-container-id-4 label.sk-toggleable__label {cursor: pointer;display: block;width: 100%;margin-bottom: 0;padding: 0.3em;box-sizing: border-box;text-align: center;}#sk-container-id-4 label.sk-toggleable__label-arrow:before {content: \"▸\";float: left;margin-right: 0.25em;color: #696969;}#sk-container-id-4 label.sk-toggleable__label-arrow:hover:before {color: black;}#sk-container-id-4 div.sk-estimator:hover label.sk-toggleable__label-arrow:before {color: black;}#sk-container-id-4 div.sk-toggleable__content {max-height: 0;max-width: 0;overflow: hidden;text-align: left;background-color: #f0f8ff;}#sk-container-id-4 div.sk-toggleable__content pre {margin: 0.2em;color: black;border-radius: 0.25em;background-color: #f0f8ff;}#sk-container-id-4 input.sk-toggleable__control:checked~div.sk-toggleable__content {max-height: 200px;max-width: 100%;overflow: auto;}#sk-container-id-4 input.sk-toggleable__control:checked~label.sk-toggleable__label-arrow:before {content: \"▾\";}#sk-container-id-4 div.sk-estimator input.sk-toggleable__control:checked~label.sk-toggleable__label {background-color: #d4ebff;}#sk-container-id-4 div.sk-label input.sk-toggleable__control:checked~label.sk-toggleable__label {background-color: #d4ebff;}#sk-container-id-4 input.sk-hidden--visually {border: 0;clip: rect(1px 1px 1px 1px);clip: rect(1px, 1px, 1px, 1px);height: 1px;margin: -1px;overflow: hidden;padding: 0;position: absolute;width: 1px;}#sk-container-id-4 div.sk-estimator {font-family: monospace;background-color: #f0f8ff;border: 1px dotted black;border-radius: 0.25em;box-sizing: border-box;margin-bottom: 0.5em;}#sk-container-id-4 div.sk-estimator:hover {background-color: #d4ebff;}#sk-container-id-4 div.sk-parallel-item::after {content: \"\";width: 100%;border-bottom: 1px solid gray;flex-grow: 1;}#sk-container-id-4 div.sk-label:hover label.sk-toggleable__label {background-color: #d4ebff;}#sk-container-id-4 div.sk-serial::before {content: \"\";position: absolute;border-left: 1px solid gray;box-sizing: border-box;top: 0;bottom: 0;left: 50%;z-index: 0;}#sk-container-id-4 div.sk-serial {display: flex;flex-direction: column;align-items: center;background-color: white;padding-right: 0.2em;padding-left: 0.2em;position: relative;}#sk-container-id-4 div.sk-item {position: relative;z-index: 1;}#sk-container-id-4 div.sk-parallel {display: flex;align-items: stretch;justify-content: center;background-color: white;position: relative;}#sk-container-id-4 div.sk-item::before, #sk-container-id-4 div.sk-parallel-item::before {content: \"\";position: absolute;border-left: 1px solid gray;box-sizing: border-box;top: 0;bottom: 0;left: 50%;z-index: -1;}#sk-container-id-4 div.sk-parallel-item {display: flex;flex-direction: column;z-index: 1;position: relative;background-color: white;}#sk-container-id-4 div.sk-parallel-item:first-child::after {align-self: flex-end;width: 50%;}#sk-container-id-4 div.sk-parallel-item:last-child::after {align-self: flex-start;width: 50%;}#sk-container-id-4 div.sk-parallel-item:only-child::after {width: 0;}#sk-container-id-4 div.sk-dashed-wrapped {border: 1px dashed gray;margin: 0 0.4em 0.5em 0.4em;box-sizing: border-box;padding-bottom: 0.4em;background-color: white;}#sk-container-id-4 div.sk-label label {font-family: monospace;font-weight: bold;display: inline-block;line-height: 1.2em;}#sk-container-id-4 div.sk-label-container {text-align: center;}#sk-container-id-4 div.sk-container {/* jupyter's `normalize.less` sets `[hidden] { display: none; }` but bootstrap.min.css set `[hidden] { display: none !important; }` so we also need the `!important` here to be able to override the default hidden behavior on the sphinx rendered scikit-learn.org. See: https://github.com/scikit-learn/scikit-learn/issues/21755 */display: inline-block !important;position: relative;}#sk-container-id-4 div.sk-text-repr-fallback {display: none;}</style><div id=\"sk-container-id-4\" class=\"sk-top-container\"><div class=\"sk-text-repr-fallback\"><pre>LogisticRegression()</pre><b>In a Jupyter environment, please rerun this cell to show the HTML representation or trust the notebook. <br />On GitHub, the HTML representation is unable to render, please try loading this page with nbviewer.org.</b></div><div class=\"sk-container\" hidden><div class=\"sk-item\"><div class=\"sk-estimator sk-toggleable\"><input class=\"sk-toggleable__control sk-hidden--visually\" id=\"sk-estimator-id-4\" type=\"checkbox\" checked><label for=\"sk-estimator-id-4\" class=\"sk-toggleable__label sk-toggleable__label-arrow\">LogisticRegression</label><div class=\"sk-toggleable__content\"><pre>LogisticRegression()</pre></div></div></div></div></div>"
      ],
      "text/plain": [
       "LogisticRegression()"
      ]
     },
     "execution_count": 177,
     "metadata": {},
     "output_type": "execute_result"
    }
   ],
   "source": [
    "# Train Logistic Regression model\n",
    "model = LogisticRegression()\n",
    "model.fit(X_train, y_train)"
   ]
  },
  {
   "cell_type": "code",
   "execution_count": 186,
   "id": "006ea06b",
   "metadata": {},
   "outputs": [
    {
     "name": "stdout",
     "output_type": "stream",
     "text": [
      "F1-Score: 0.7240870814921898\n"
     ]
    }
   ],
   "source": [
    "# Step 4: Model Evaluation\n",
    "# Predict on validation set\n",
    "y_pred = model.predict(X_val)\n",
    "# Evaluate F1-Score\n",
    "f1 = f1_score(y_val, y_pred, average='weighted')\n",
    "print(\"F1-Score:\", f1)"
   ]
  },
  {
   "cell_type": "code",
   "execution_count": 182,
   "id": "71d759dc",
   "metadata": {},
   "outputs": [],
   "source": [
    "# Step 5: Prediction and Submission\n",
    "# Load the test dataset\n",
    "test_df = pd.read_csv('test_with_no_labels.csv')\n",
    "# Preprocess the test data\n",
    "test_df['processed_message'] = test_df['message'].apply(preprocess_text)\n",
    "# Convert text data into numerical features using TF-IDF\n",
    "X_test = tfidf_vectorizer.transform(test_df['processed_message'])\n",
    "# Make predictions\n",
    "test_df['sentiment'] = model.predict(X_test)\n",
    "# Prepare submission file\n",
    "submission_df = test_df[['tweetid', 'sentiment']]\n",
    "submission_df.to_csv('submission.csv', index=False)"
   ]
  },
  {
   "cell_type": "code",
   "execution_count": 183,
   "id": "572801c5",
   "metadata": {},
   "outputs": [],
   "source": [
    "#install comet\n",
    "#!pip install comet_ml"
   ]
  },
  {
   "cell_type": "code",
   "execution_count": null,
   "id": "b2e0648a",
   "metadata": {},
   "outputs": [],
   "source": [
    "# import comet_ml at the top of your file\n",
    "from comet_ml import Experiment\n",
    "\n",
    "# Create an experiment with your api key\n",
    "experiment = Experiment(\n",
    "    api_key=\"rR8kv2NmhyixwAcMdh0z7Pe3c\",\n",
    "    project_name=\"predict_twitter-sentiments\",\n",
    "    workspace=\"singi-web\",\n",
    ")"
   ]
  },
  {
   "cell_type": "code",
   "execution_count": null,
   "id": "f5827f0e",
   "metadata": {},
   "outputs": [],
   "source": [
    "#logging the experiment to comet_ml\n",
    "experiment.log_parameters(params)\n",
    "experiment.log_metrics(metrics)"
   ]
  },
  {
   "cell_type": "code",
   "execution_count": null,
   "id": "22d53ffd",
   "metadata": {},
   "outputs": [],
   "source": [
    "#ending the experiment\n",
    "#experiment.end"
   ]
  }
 ],
 "metadata": {
  "kernelspec": {
   "display_name": "Python 3 (ipykernel)",
   "language": "python",
   "name": "python3"
  },
  "language_info": {
   "codemirror_mode": {
    "name": "ipython",
    "version": 3
   },
   "file_extension": ".py",
   "mimetype": "text/x-python",
   "name": "python",
   "nbconvert_exporter": "python",
   "pygments_lexer": "ipython3",
   "version": "3.11.5"
  }
 },
 "nbformat": 4,
 "nbformat_minor": 5
}
